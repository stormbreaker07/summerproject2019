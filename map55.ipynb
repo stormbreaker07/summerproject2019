{
 "cells": [
  {
   "cell_type": "code",
   "execution_count": 22,
   "metadata": {},
   "outputs": [],
   "source": [
    "import folium\n",
    "import pandas\n",
    "\n"
   ]
  },
  {
   "cell_type": "code",
   "execution_count": 23,
   "metadata": {},
   "outputs": [],
   "source": [
    "data=pandas.read_csv(\"lat1ind_cit.csv\")\n",
    "lat=list(data[\"Latitude\"])\n",
    "lon=list(data[\"Longitude\"])\n",
    "name=list(data[\"Province/State\"])\n",
    "city=list(data[\"City\"])\n",
    "x=list(data[\"population\"])"
   ]
  },
  {
   "cell_type": "code",
   "execution_count": 63,
   "metadata": {},
   "outputs": [],
   "source": [
    "def color_ico(m):\n",
    "    if m<2000000:\n",
    "        return \"gray\"\n",
    "    elif m<10000000:\n",
    "        return \"lightblue\"\n",
    "    elif m<30000000:\n",
    "        return \"lightgreen\"\n",
    "    elif m<60000000:\n",
    "        return \"darkgreen\"\n",
    "    elif m<80000000:\n",
    "        return \"orange\"\n",
    "    elif m<100000000:\n",
    "        return \"lightred\"\n",
    "    elif m<200000000:\n",
    "        return \"darkred\"\n",
    "    \n",
    "map=folium.Map(location=[28.6466773,76.813073],tiles=\"OpenStreetMap\")\n",
    "fgi=folium.FeatureGroup(\"pop_india\")\n",
    "\n",
    "\n",
    "for i in range(0,33):\n",
    "    fgi.add_child(folium.Marker(location=[lat[i],lon[i]],popup=city[i],tooltip=name[i],icon=folium.Icon(color=color_ico(x[i]))))\n",
    "\n",
    "\n",
    "fgw=folium.FeatureGroup(\"pop_world\")\n",
    "\n",
    "fgw.add_child(folium.GeoJson(data=open(\"world.json\",'r',encoding='utf-8-sig').read(),\n",
    "style_function=lambda x: {'fillColor':'gray'  if x['properties']['POP2005'] < 5000000 \n",
    "else 'lightblue' if 5000000<=x['properties']['POP2005'] < 10000000\n",
    "else  'brown' if 10000000<=x['properties']['POP2005'] < 30000000                          \n",
    "else  'darkblue' if 30000000<=x['properties']['POP2005'] < 90000000\n",
    "else  'green' if 90000000<=x['properties']['POP2005'] < 100000000\n",
    "else  'yellow' if 100000000<=x['properties']['POP2005'] < 200000000\n",
    "else  'darkred' if 200000000<=x['properties']['POP2005'] < 400000000\n",
    "else  'black' }))\n",
    "\n",
    "map.add_child(fgi)\n",
    "map.add_child(fgw)\n",
    "map.add_child(folium.LayerControl())\n",
    "map.save(\"map07.html\")\n"
   ]
  },
  {
   "cell_type": "code",
   "execution_count": null,
   "metadata": {},
   "outputs": [],
   "source": []
  },
  {
   "cell_type": "code",
   "execution_count": null,
   "metadata": {},
   "outputs": [],
   "source": [
    "\n"
   ]
  },
  {
   "cell_type": "code",
   "execution_count": null,
   "metadata": {},
   "outputs": [],
   "source": []
  },
  {
   "cell_type": "code",
   "execution_count": null,
   "metadata": {},
   "outputs": [],
   "source": []
  },
  {
   "cell_type": "code",
   "execution_count": null,
   "metadata": {},
   "outputs": [],
   "source": []
  },
  {
   "cell_type": "code",
   "execution_count": null,
   "metadata": {},
   "outputs": [],
   "source": []
  }
 ],
 "metadata": {
  "kernelspec": {
   "display_name": "Python 3",
   "language": "python",
   "name": "python3"
  },
  "language_info": {
   "codemirror_mode": {
    "name": "ipython",
    "version": 3
   },
   "file_extension": ".py",
   "mimetype": "text/x-python",
   "name": "python",
   "nbconvert_exporter": "python",
   "pygments_lexer": "ipython3",
   "version": "3.7.3"
  }
 },
 "nbformat": 4,
 "nbformat_minor": 2
}
